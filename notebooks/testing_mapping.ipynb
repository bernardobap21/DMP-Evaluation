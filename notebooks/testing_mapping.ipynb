{
 "cells": [
  {
   "cell_type": "code",
   "execution_count": 17,
   "id": "d63ad79e",
   "metadata": {},
   "outputs": [
    {
     "name": "stdout",
     "output_type": "stream",
     "text": [
      "c:\\Users\\berni\\OneDrive - TU Wien\\THESIS\\Code\\DMP-Evaluation\n"
     ]
    }
   ],
   "source": [
    "import os\n",
    "os.chdir('..')  # Go up one level to project root\n",
    "print(os.getcwd())  # Should now show the project root\n"
   ]
  },
  {
   "cell_type": "code",
   "execution_count": 19,
   "id": "0380dc3c",
   "metadata": {},
   "outputs": [],
   "source": [
    "from FIP_Mapping.mapping import load_mapping\n",
    "from FIP_Mapping.utils  import transform_mapping, get_mapped_status\n",
    "from Evaluator.evaluator import load_dmp, evaluate_dmp_against_fip, summarize_results\n"
   ]
  },
  {
   "cell_type": "code",
   "execution_count": 20,
   "id": "6e5af9f5",
   "metadata": {},
   "outputs": [
    {
     "data": {
      "text/plain": [
       "{'FIP_maDMP_Mapping': [{'FAIR_principle': 'F1',\n",
       "   'FIP_question': 'What globally unique, persistent, resolvable identifiers do you use for metadata records?',\n",
       "   'maDMP_field': 'dataset.dataset_id.identifier',\n",
       "   'Mapping_status': 'Mapped',\n",
       "   'Comments': 'Clearly mapped'},\n",
       "  {'FAIR_principle': 'F1',\n",
       "   'FIP_question': 'What globally unique, persistent, resolvable identifiers do you use for datasets?',\n",
       "   'maDMP_field': 'dataset.dataset_id.identifier',\n",
       "   'Mapping_status': 'Mapped',\n",
       "   'Comments': \"Clearly mapped. But it's strange that always separate datasets and metadata records\"},\n",
       "  {'FAIR_principle': 'F2',\n",
       "   'FIP_question': 'Which metadata schemas do you use for findability?',\n",
       "   'maDMP_field': 'dataset.metadata.metadata_standard_id.identifier',\n",
       "   'Mapping_status': 'Mapped',\n",
       "   'Comments': 'Could also be dataset.metadata.metadata_standard_id.type'},\n",
       "  {'FAIR_principle': 'F3',\n",
       "   'FIP_question': 'What is the technology that links the persistent identifiers of your data to the metadata description?',\n",
       "   'maDMP_field': 'dataset.distribution.host.pid_system',\n",
       "   'Mapping_status': 'Mapped',\n",
       "   'Comments': 'Term from Controlled Vocabulary. Like DOI'},\n",
       "  {'FAIR_principle': 'F4',\n",
       "   'FIP_question': 'In which search engines are your metadata records indexed?',\n",
       "   'maDMP_field': '',\n",
       "   'Mapping_status': 'Not Mapped',\n",
       "   'Comments': 'No field explicitly covers search engine indexing'},\n",
       "  {'FAIR_principle': 'F4',\n",
       "   'FIP_question': 'In which search engines are your datasets indexed?',\n",
       "   'maDMP_field': '',\n",
       "   'Mapping_status': 'Not Mapped',\n",
       "   'Comments': 'No field explicitly covers search engine indexing'},\n",
       "  {'FAIR_principle': 'A1.1',\n",
       "   'FIP_question': 'Which standardized communication protocol do you use for metadata records?',\n",
       "   'maDMP_field': 'dataset.distribution.host.url',\n",
       "   'Mapping_status': 'Mapped',\n",
       "   'Comments': \"Maybe not. I'm inferring this. could also be dataset.distribution.host.host_id_type\"},\n",
       "  {'FAIR_principle': 'A1.1',\n",
       "   'FIP_question': 'Which standardized communication protocol do you use for datasets?',\n",
       "   'maDMP_field': 'dataset.distribution.host.url',\n",
       "   'Mapping_status': 'Mapped',\n",
       "   'Comments': \"Maybe not. I'm inferring this. could also be dataset.distribution.host.host_id_type\"},\n",
       "  {'FAIR_principle': 'A1.2',\n",
       "   'FIP_question': 'Which authentication & authorisation technique do you use for metadata records?',\n",
       "   'maDMP_field': 'dataset.distribution.data_access',\n",
       "   'Mapping_status': 'Partially Mapped',\n",
       "   'Comments': \"Just tells if it's open, shared or closed\"},\n",
       "  {'FAIR_principle': 'A1.2',\n",
       "   'FIP_question': 'Which authentication & authorisation technique do you use for datasets?',\n",
       "   'maDMP_field': 'dataset.distribution.data_access',\n",
       "   'Mapping_status': 'Partially Mapped',\n",
       "   'Comments': \"Just tells if it's open, shared or closed\"},\n",
       "  {'FAIR_principle': 'A2',\n",
       "   'FIP_question': 'Which metadata longevity plan do you use?',\n",
       "   'maDMP_field': '',\n",
       "   'Mapping_status': 'Not Mapped',\n",
       "   'Comments': 'project.end or something with host like backup_type or distribution.available_until'},\n",
       "  {'FAIR_principle': 'I1',\n",
       "   'FIP_question': 'Which knowledge representation languages (allowing machine interoperation) do you use for metadata records?',\n",
       "   'maDMP_field': '',\n",
       "   'Mapping_status': 'Not Mapped',\n",
       "   'Comments': 'Explicit semantic representation languages not explicitly detailed'},\n",
       "  {'FAIR_principle': 'I1',\n",
       "   'FIP_question': 'Which knowledge representation languages (allowing machine interoperation) do you use for datasets?',\n",
       "   'maDMP_field': '',\n",
       "   'Mapping_status': 'Not Mapped',\n",
       "   'Comments': 'Explicit semantic representation languages not explicitly detailed'},\n",
       "  {'FAIR_principle': 'I2',\n",
       "   'FIP_question': 'Which structured vocabularies do you use to annotate your metadata records?',\n",
       "   'maDMP_field': 'dataset.metadata.metadata_standard_id.identifier',\n",
       "   'Mapping_status': 'Partially Mapped',\n",
       "   'Comments': 'The example value is http://www.dublincore.org/specifications/dublin-core/dcmi-terms/ which could help to partially infer something'},\n",
       "  {'FAIR_principle': 'I2',\n",
       "   'FIP_question': 'Which structured vocabularies do you use to encode your datasets?',\n",
       "   'maDMP_field': 'dataset.metadata.metadata_standard_id.identifier',\n",
       "   'Mapping_status': 'Partially Mapped',\n",
       "   'Comments': 'The example value is http://www.dublincore.org/specifications/dublin-core/dcmi-terms/ which could help to partially infer something'},\n",
       "  {'FAIR_principle': 'I3',\n",
       "   'FIP_question': 'Which models, schema(s) do you use for your metadata records?',\n",
       "   'maDMP_field': 'dataset.metadata.metadata_standard_id.type',\n",
       "   'Mapping_status': 'Mapped',\n",
       "   'Comments': 'Gives the term from the controlled vocabulary'},\n",
       "  {'FAIR_principle': 'I3',\n",
       "   'FIP_question': 'Which models, schema(s) do you use for your datasets?',\n",
       "   'maDMP_field': 'dataset.metadata.metadata_standard_id.type',\n",
       "   'Mapping_status': 'Mapped',\n",
       "   'Comments': 'Gives the term from the controlled vocabulary'},\n",
       "  {'FAIR_principle': 'R1.1',\n",
       "   'FIP_question': 'Which usage license do you use for your metadata records?',\n",
       "   'maDMP_field': 'dataset.distribution.license.license_ref',\n",
       "   'Mapping_status': 'Mapped',\n",
       "   'Comments': 'Could also be dataset.distribution.license.license_name'},\n",
       "  {'FAIR_principle': 'R1.1',\n",
       "   'FIP_question': 'Which usage license do you use for your datasets?',\n",
       "   'maDMP_field': 'dataset.distribution.license.license_ref',\n",
       "   'Mapping_status': 'Mapped',\n",
       "   'Comments': 'Could also be dataset.distribution.license.license_name'},\n",
       "  {'FAIR_principle': 'R1.2',\n",
       "   'FIP_question': 'Which metadata schemas do you use for describing the provenance of your metadata records?',\n",
       "   'maDMP_field': '',\n",
       "   'Mapping_status': 'Not Mapped',\n",
       "   'Comments': 'Maybe dataset.data_quality_assurance could be useful'},\n",
       "  {'FAIR_principle': 'R1.2',\n",
       "   'FIP_question': 'Which metadata schemas do you use for describing the provenance of your datasets?',\n",
       "   'maDMP_field': '',\n",
       "   'Mapping_status': 'Not Mapped',\n",
       "   'Comments': 'Maybe dataset.data_quality_assurance could be useful'}]}"
      ]
     },
     "execution_count": 20,
     "metadata": {},
     "output_type": "execute_result"
    }
   ],
   "source": [
    "# Load JSON explicitly\n",
    "mapping_data = load_mapping('FIP_Mapping/fip_madmp_mapping.json')\n",
    "mapping_data"
   ]
  },
  {
   "cell_type": "code",
   "execution_count": 21,
   "id": "c699b9ac",
   "metadata": {},
   "outputs": [
    {
     "data": {
      "text/plain": [
       "{'What globally unique, persistent, resolvable identifiers do you use for metadata records?': {'FAIR_principle': 'F1',\n",
       "  'maDMP_field': 'dataset.dataset_id.identifier',\n",
       "  'Mapping_status': 'Mapped',\n",
       "  'Comments': 'Clearly mapped'},\n",
       " 'What globally unique, persistent, resolvable identifiers do you use for datasets?': {'FAIR_principle': 'F1',\n",
       "  'maDMP_field': 'dataset.dataset_id.identifier',\n",
       "  'Mapping_status': 'Mapped',\n",
       "  'Comments': \"Clearly mapped. But it's strange that always separate datasets and metadata records\"},\n",
       " 'Which metadata schemas do you use for findability?': {'FAIR_principle': 'F2',\n",
       "  'maDMP_field': 'dataset.metadata.metadata_standard_id.identifier',\n",
       "  'Mapping_status': 'Mapped',\n",
       "  'Comments': 'Could also be dataset.metadata.metadata_standard_id.type'},\n",
       " 'What is the technology that links the persistent identifiers of your data to the metadata description?': {'FAIR_principle': 'F3',\n",
       "  'maDMP_field': 'dataset.distribution.host.pid_system',\n",
       "  'Mapping_status': 'Mapped',\n",
       "  'Comments': 'Term from Controlled Vocabulary. Like DOI'},\n",
       " 'In which search engines are your metadata records indexed?': {'FAIR_principle': 'F4',\n",
       "  'maDMP_field': '',\n",
       "  'Mapping_status': 'Not Mapped',\n",
       "  'Comments': 'No field explicitly covers search engine indexing'},\n",
       " 'In which search engines are your datasets indexed?': {'FAIR_principle': 'F4',\n",
       "  'maDMP_field': '',\n",
       "  'Mapping_status': 'Not Mapped',\n",
       "  'Comments': 'No field explicitly covers search engine indexing'},\n",
       " 'Which standardized communication protocol do you use for metadata records?': {'FAIR_principle': 'A1.1',\n",
       "  'maDMP_field': 'dataset.distribution.host.url',\n",
       "  'Mapping_status': 'Mapped',\n",
       "  'Comments': \"Maybe not. I'm inferring this. could also be dataset.distribution.host.host_id_type\"},\n",
       " 'Which standardized communication protocol do you use for datasets?': {'FAIR_principle': 'A1.1',\n",
       "  'maDMP_field': 'dataset.distribution.host.url',\n",
       "  'Mapping_status': 'Mapped',\n",
       "  'Comments': \"Maybe not. I'm inferring this. could also be dataset.distribution.host.host_id_type\"},\n",
       " 'Which authentication & authorisation technique do you use for metadata records?': {'FAIR_principle': 'A1.2',\n",
       "  'maDMP_field': 'dataset.distribution.data_access',\n",
       "  'Mapping_status': 'Partially Mapped',\n",
       "  'Comments': \"Just tells if it's open, shared or closed\"},\n",
       " 'Which authentication & authorisation technique do you use for datasets?': {'FAIR_principle': 'A1.2',\n",
       "  'maDMP_field': 'dataset.distribution.data_access',\n",
       "  'Mapping_status': 'Partially Mapped',\n",
       "  'Comments': \"Just tells if it's open, shared or closed\"},\n",
       " 'Which metadata longevity plan do you use?': {'FAIR_principle': 'A2',\n",
       "  'maDMP_field': '',\n",
       "  'Mapping_status': 'Not Mapped',\n",
       "  'Comments': 'project.end or something with host like backup_type or distribution.available_until'},\n",
       " 'Which knowledge representation languages (allowing machine interoperation) do you use for metadata records?': {'FAIR_principle': 'I1',\n",
       "  'maDMP_field': '',\n",
       "  'Mapping_status': 'Not Mapped',\n",
       "  'Comments': 'Explicit semantic representation languages not explicitly detailed'},\n",
       " 'Which knowledge representation languages (allowing machine interoperation) do you use for datasets?': {'FAIR_principle': 'I1',\n",
       "  'maDMP_field': '',\n",
       "  'Mapping_status': 'Not Mapped',\n",
       "  'Comments': 'Explicit semantic representation languages not explicitly detailed'},\n",
       " 'Which structured vocabularies do you use to annotate your metadata records?': {'FAIR_principle': 'I2',\n",
       "  'maDMP_field': 'dataset.metadata.metadata_standard_id.identifier',\n",
       "  'Mapping_status': 'Partially Mapped',\n",
       "  'Comments': 'The example value is http://www.dublincore.org/specifications/dublin-core/dcmi-terms/ which could help to partially infer something'},\n",
       " 'Which structured vocabularies do you use to encode your datasets?': {'FAIR_principle': 'I2',\n",
       "  'maDMP_field': 'dataset.metadata.metadata_standard_id.identifier',\n",
       "  'Mapping_status': 'Partially Mapped',\n",
       "  'Comments': 'The example value is http://www.dublincore.org/specifications/dublin-core/dcmi-terms/ which could help to partially infer something'},\n",
       " 'Which models, schema(s) do you use for your metadata records?': {'FAIR_principle': 'I3',\n",
       "  'maDMP_field': 'dataset.metadata.metadata_standard_id.type',\n",
       "  'Mapping_status': 'Mapped',\n",
       "  'Comments': 'Gives the term from the controlled vocabulary'},\n",
       " 'Which models, schema(s) do you use for your datasets?': {'FAIR_principle': 'I3',\n",
       "  'maDMP_field': 'dataset.metadata.metadata_standard_id.type',\n",
       "  'Mapping_status': 'Mapped',\n",
       "  'Comments': 'Gives the term from the controlled vocabulary'},\n",
       " 'Which usage license do you use for your metadata records?': {'FAIR_principle': 'R1.1',\n",
       "  'maDMP_field': 'dataset.distribution.license.license_ref',\n",
       "  'Mapping_status': 'Mapped',\n",
       "  'Comments': 'Could also be dataset.distribution.license.license_name'},\n",
       " 'Which usage license do you use for your datasets?': {'FAIR_principle': 'R1.1',\n",
       "  'maDMP_field': 'dataset.distribution.license.license_ref',\n",
       "  'Mapping_status': 'Mapped',\n",
       "  'Comments': 'Could also be dataset.distribution.license.license_name'},\n",
       " 'Which metadata schemas do you use for describing the provenance of your metadata records?': {'FAIR_principle': 'R1.2',\n",
       "  'maDMP_field': '',\n",
       "  'Mapping_status': 'Not Mapped',\n",
       "  'Comments': 'Maybe dataset.data_quality_assurance could be useful'},\n",
       " 'Which metadata schemas do you use for describing the provenance of your datasets?': {'FAIR_principle': 'R1.2',\n",
       "  'maDMP_field': '',\n",
       "  'Mapping_status': 'Not Mapped',\n",
       "  'Comments': 'Maybe dataset.data_quality_assurance could be useful'}}"
      ]
     },
     "execution_count": 21,
     "metadata": {},
     "output_type": "execute_result"
    }
   ],
   "source": [
    "# Transform mapping explicitly\n",
    "fip_to_madmp = transform_mapping(mapping_data)\n",
    "fip_to_madmp"
   ]
  },
  {
   "cell_type": "code",
   "execution_count": 22,
   "id": "326a48e0",
   "metadata": {},
   "outputs": [
    {
     "name": "stdout",
     "output_type": "stream",
     "text": [
      "{'FAIR_principle': 'F2', 'maDMP_field': 'dataset.metadata.metadata_standard_id.identifier', 'Mapping_status': 'Mapped', 'Comments': 'Could also be dataset.metadata.metadata_standard_id.type'}\n"
     ]
    }
   ],
   "source": [
    "# Example question explicitly defined\n",
    "question_example = \"Which metadata schemas do you use for findability?\"\n",
    "\n",
    "# Print explicitly the details\n",
    "print(fip_to_madmp[question_example])"
   ]
  },
  {
   "cell_type": "code",
   "execution_count": 23,
   "id": "f741d232",
   "metadata": {},
   "outputs": [
    {
     "name": "stdout",
     "output_type": "stream",
     "text": [
      "Mapped Questions:\n",
      "- What globally unique, persistent, resolvable identifiers do you use for metadata records?\n",
      "- What globally unique, persistent, resolvable identifiers do you use for datasets?\n",
      "- Which metadata schemas do you use for findability?\n",
      "- What is the technology that links the persistent identifiers of your data to the metadata description?\n",
      "- Which standardized communication protocol do you use for metadata records?\n",
      "- Which standardized communication protocol do you use for datasets?\n",
      "- Which models, schema(s) do you use for your metadata records?\n",
      "- Which models, schema(s) do you use for your datasets?\n",
      "- Which usage license do you use for your metadata records?\n",
      "- Which usage license do you use for your datasets?\n",
      "\n",
      "Partially Mapped Questions:\n",
      "- Which authentication & authorisation technique do you use for metadata records?\n",
      "- Which authentication & authorisation technique do you use for datasets?\n",
      "- Which structured vocabularies do you use to annotate your metadata records?\n",
      "- Which structured vocabularies do you use to encode your datasets?\n",
      "\n",
      "Not Mapped Questions:\n",
      "- In which search engines are your metadata records indexed?\n",
      "- In which search engines are your datasets indexed?\n",
      "- Which metadata longevity plan do you use?\n",
      "- Which knowledge representation languages (allowing machine interoperation) do you use for metadata records?\n",
      "- Which knowledge representation languages (allowing machine interoperation) do you use for datasets?\n",
      "- Which metadata schemas do you use for describing the provenance of your metadata records?\n",
      "- Which metadata schemas do you use for describing the provenance of your datasets?\n"
     ]
    }
   ],
   "source": [
    "# Retrieve explicitly mapped and not mapped items\n",
    "mapped_items = get_mapped_status(fip_to_madmp, \"Mapped\")\n",
    "partially_mapped_items = get_mapped_status(fip_to_madmp, \"Partially Mapped\")\n",
    "not_mapped_items = get_mapped_status(fip_to_madmp, \"Not Mapped\")\n",
    "\n",
    "# Print mapped questions\n",
    "print(\"Mapped Questions:\")\n",
    "for q in mapped_items:\n",
    "    print(f\"- {q}\")\n",
    "\n",
    "# Print partially mapped explicitly\n",
    "print(\"\\nPartially Mapped Questions:\")\n",
    "for q in partially_mapped_items:\n",
    "    print(f\"- {q}\")\n",
    "\n",
    "# Print not mapped questions\n",
    "print(\"\\nNot Mapped Questions:\")\n",
    "for q in not_mapped_items:\n",
    "    print(f\"- {q}\")"
   ]
  },
  {
   "cell_type": "code",
   "execution_count": 24,
   "id": "05e6e277",
   "metadata": {},
   "outputs": [
    {
     "name": "stdout",
     "output_type": "stream",
     "text": [
      "What globally unique, persistent, resolvable identifiers do  | Mapping: Mapped          | Present: Present\n",
      "What globally unique, persistent, resolvable identifiers do  | Mapping: Mapped          | Present: Present\n",
      "Which metadata schemas do you use for findability?           | Mapping: Mapped          | Present: Not Present\n",
      "What is the technology that links the persistent identifiers | Mapping: Mapped          | Present: Present\n",
      "In which search engines are your metadata records indexed?   | Mapping: Not Mapped      | Present: None\n",
      "In which search engines are your datasets indexed?           | Mapping: Not Mapped      | Present: None\n",
      "Which standardized communication protocol do you use for met | Mapping: Mapped          | Present: Present\n",
      "Which standardized communication protocol do you use for dat | Mapping: Mapped          | Present: Present\n",
      "Which authentication & authorisation technique do you use fo | Mapping: Partially Mapped | Present: Present\n",
      "Which authentication & authorisation technique do you use fo | Mapping: Partially Mapped | Present: Present\n",
      "Which metadata longevity plan do you use?                    | Mapping: Not Mapped      | Present: None\n",
      "Which knowledge representation languages (allowing machine i | Mapping: Not Mapped      | Present: None\n",
      "Which knowledge representation languages (allowing machine i | Mapping: Not Mapped      | Present: None\n",
      "Which structured vocabularies do you use to annotate your me | Mapping: Partially Mapped | Present: Not Present\n",
      "Which structured vocabularies do you use to encode your data | Mapping: Partially Mapped | Present: Not Present\n",
      "Which models, schema(s) do you use for your metadata records | Mapping: Mapped          | Present: Not Present\n",
      "Which models, schema(s) do you use for your datasets?        | Mapping: Mapped          | Present: Not Present\n",
      "Which usage license do you use for your metadata records?    | Mapping: Mapped          | Present: Present\n",
      "Which usage license do you use for your datasets?            | Mapping: Mapped          | Present: Present\n",
      "Which metadata schemas do you use for describing the provena | Mapping: Not Mapped      | Present: None\n",
      "Which metadata schemas do you use for describing the provena | Mapping: Not Mapped      | Present: None\n",
      "9/21 fields present in the maDMP.\n"
     ]
    },
    {
     "data": {
      "text/plain": [
       "(9, 21)"
      ]
     },
     "execution_count": 24,
     "metadata": {},
     "output_type": "execute_result"
    }
   ],
   "source": [
    "# Load the real, long maDMP\n",
    "dmp_real = load_dmp('examples/ex9-dmp-long.json')\n",
    "\n",
    "# Evaluate\n",
    "results_real = evaluate_dmp_against_fip(dmp_real, fip_to_madmp)\n",
    "\n",
    "# Display evaluation results\n",
    "for question, mapping_status, present in results_real:\n",
    "    print(f\"{question[:60]:<60} | Mapping: {mapping_status:<15} | Present: {present}\")\n",
    "\n",
    "# Summary\n",
    "summarize_results(results_real)\n"
   ]
  },
  {
   "cell_type": "code",
   "execution_count": null,
   "id": "d763a51a",
   "metadata": {},
   "outputs": [],
   "source": []
  },
  {
   "cell_type": "code",
   "execution_count": null,
   "id": "1522818a",
   "metadata": {},
   "outputs": [],
   "source": []
  }
 ],
 "metadata": {
  "kernelspec": {
   "display_name": "Python 3",
   "language": "python",
   "name": "python3"
  },
  "language_info": {
   "codemirror_mode": {
    "name": "ipython",
    "version": 3
   },
   "file_extension": ".py",
   "mimetype": "text/x-python",
   "name": "python",
   "nbconvert_exporter": "python",
   "pygments_lexer": "ipython3",
   "version": "3.10.11"
  }
 },
 "nbformat": 4,
 "nbformat_minor": 5
}
