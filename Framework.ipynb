{
 "cells": [
  {
   "cell_type": "markdown",
   "metadata": {},
   "source": [
    "# start"
   ]
  },
  {
   "cell_type": "code",
   "execution_count": 5,
   "metadata": {},
   "outputs": [],
   "source": [
    "import numpy as np\n",
    "import matplotlib.pyplot as plt\n",
    "import pandas as pd\n",
    "import seaborn as sns\n",
    "from rdflib import Graph, Namespace, RDF, URIRef, Literal\n",
    "import os"
   ]
  },
  {
   "cell_type": "code",
   "execution_count": 6,
   "metadata": {},
   "outputs": [
    {
     "name": "stdout",
     "output_type": "stream",
     "text": [
      "Hello, World!\n",
      "This is a test script.\n"
     ]
    }
   ],
   "source": [
    "print(\"Hello, World!\")\n",
    "print(\"This is a test script.\")"
   ]
  },
  {
   "cell_type": "code",
   "execution_count": 7,
   "metadata": {},
   "outputs": [
    {
     "name": "stdout",
     "output_type": "stream",
     "text": [
      "This script is used to demonstrate the use of Python for data analysis and visualization.\n"
     ]
    }
   ],
   "source": [
    "print(\"This script is used to demonstrate the use of Python for data analysis and visualization.\")"
   ]
  },
  {
   "cell_type": "code",
   "execution_count": null,
   "metadata": {},
   "outputs": [],
   "source": [
    "\n",
    "\n",
    "# Create a new RDF graph\n",
    "g = Graph()\n",
    "\n",
    "# Define namespaces\n",
    "FIP = Namespace(\"http://example.org/fip#\")\n",
    "DMP = Namespace(\"http://example.org/madmp#\")\n",
    "### \n"
   ]
  },
  {
   "cell_type": "code",
   "execution_count": 10,
   "metadata": {},
   "outputs": [
    {
     "data": {
      "text/plain": [
       "<Graph identifier=N00b58d1235eb417a8080136479d68731 (<class 'rdflib.graph.Graph'>)>"
      ]
     },
     "execution_count": 10,
     "metadata": {},
     "output_type": "execute_result"
    }
   ],
   "source": [
    "# Add a FIP element\n",
    "fip1 = URIRef(FIP['FIP1'])\n",
    "g.add((fip1, RDF.type, FIP['FAIRImplementationProfile']))\n",
    "g.add((fip1, FIP['recommendsLicense'], Literal(\"CC-BY\")))\n",
    "g.add((fip1, FIP['usesMetadataStandard'], Literal(\"Dublin Core\")))\n"
   ]
  },
  {
   "cell_type": "code",
   "execution_count": 11,
   "metadata": {},
   "outputs": [
    {
     "data": {
      "text/plain": [
       "<Graph identifier=N00b58d1235eb417a8080136479d68731 (<class 'rdflib.graph.Graph'>)>"
      ]
     },
     "execution_count": 11,
     "metadata": {},
     "output_type": "execute_result"
    }
   ],
   "source": [
    "# Add a maDMP dataset element\n",
    "dataset1 = URIRef(DMP['Dataset1'])\n",
    "g.add((dataset1, RDF.type, DMP['Dataset']))\n",
    "g.add((dataset1, DMP['hasLicense'], Literal(\"CC-BY\")))\n",
    "g.add((dataset1, DMP['usesMetadataStandard'], Literal(\"Dublin Core\")))\n"
   ]
  },
  {
   "cell_type": "code",
   "execution_count": 13,
   "metadata": {},
   "outputs": [
    {
     "name": "stdout",
     "output_type": "stream",
     "text": [
      "@prefix ns1: <http://example.org/fip#> .\n",
      "@prefix ns2: <http://example.org/madmp#> .\n",
      "\n",
      "ns1:FIP1 a ns1:FAIRImplementationProfile ;\n",
      "    ns1:recommendsLicense \"CC-BY\" ;\n",
      "    ns1:usesMetadataStandard \"Dublin Core\" .\n",
      "\n",
      "ns2:Dataset1 a ns2:Dataset ;\n",
      "    ns2:hasLicense \"CC-BY\" ;\n",
      "    ns2:usesMetadataStandard \"Dublin Core\" .\n",
      "\n",
      "\n"
     ]
    }
   ],
   "source": [
    "\n",
    "print(g.serialize(format='turtle'))\n",
    "\n"
   ]
  },
  {
   "cell_type": "code",
   "execution_count": 2,
   "metadata": {},
   "outputs": [],
   "source": [
    "mapping = {\n",
    "  \"FIP_Questions\": [\n",
    "    {\n",
    "      \"question\": \"Which usage license do you use for your datasets?\",\n",
    "      \"maDMP_field\": \"dataset.distribution.license\",\n",
    "      \"status\": \"Yes\",\n",
    "      \"notes\": \"Explicitly supported in RDA DCS schema.\"\n",
    "    },\n",
    "    # next mapping explicitly here...\n",
    "  ]\n",
    "}"
   ]
  },
  {
   "cell_type": "code",
   "execution_count": 3,
   "metadata": {},
   "outputs": [
    {
     "data": {
      "text/plain": [
       "{'FIP_Questions': [{'question': 'Which usage license do you use for your datasets?',\n",
       "   'maDMP_field': 'dataset.distribution.license',\n",
       "   'status': 'Yes',\n",
       "   'notes': 'Explicitly supported in RDA DCS schema.'}]}"
      ]
     },
     "execution_count": 3,
     "metadata": {},
     "output_type": "execute_result"
    }
   ],
   "source": [
    "mapping "
   ]
  }
 ],
 "metadata": {
  "kernelspec": {
   "display_name": "Python 3",
   "language": "python",
   "name": "python3"
  },
  "language_info": {
   "codemirror_mode": {
    "name": "ipython",
    "version": 3
   },
   "file_extension": ".py",
   "mimetype": "text/x-python",
   "name": "python",
   "nbconvert_exporter": "python",
   "pygments_lexer": "ipython3",
   "version": "3.10.11"
  }
 },
 "nbformat": 4,
 "nbformat_minor": 2
}
